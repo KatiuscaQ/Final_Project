{
 "cells": [
  {
   "cell_type": "markdown",
   "metadata": {},
   "source": [
    "# Import Dependencies"
   ]
  },
  {
   "cell_type": "code",
   "execution_count": 1,
   "metadata": {},
   "outputs": [],
   "source": [
    "# Plotting Tools\n",
    "%matplotlib inline\n",
    "import matplotlib.pyplot as plt\n",
    "\n",
    "# data preprocessing\n",
    "import pandas as pd\n",
    "import numpy as np\n",
    "import re\n",
    "\n",
    "# DF formatting options\n",
    "pd.options.display.max_colwidth = 165"
   ]
  },
  {
   "cell_type": "markdown",
   "metadata": {},
   "source": [
    "#### Load and explore raw data"
   ]
  },
  {
   "cell_type": "code",
   "execution_count": 2,
   "metadata": {},
   "outputs": [],
   "source": [
    "raw_data = 'resources/mbti_1.csv'\n",
    "df = pd.read_csv(raw_data)"
   ]
  },
  {
   "cell_type": "code",
   "execution_count": 3,
   "metadata": {},
   "outputs": [
    {
     "data": {
      "text/html": [
       "<div>\n",
       "<style scoped>\n",
       "    .dataframe tbody tr th:only-of-type {\n",
       "        vertical-align: middle;\n",
       "    }\n",
       "\n",
       "    .dataframe tbody tr th {\n",
       "        vertical-align: top;\n",
       "    }\n",
       "\n",
       "    .dataframe thead th {\n",
       "        text-align: right;\n",
       "    }\n",
       "</style>\n",
       "<table border=\"1\" class=\"dataframe\">\n",
       "  <thead>\n",
       "    <tr style=\"text-align: right;\">\n",
       "      <th></th>\n",
       "      <th>type</th>\n",
       "      <th>posts</th>\n",
       "    </tr>\n",
       "  </thead>\n",
       "  <tbody>\n",
       "    <tr>\n",
       "      <th>0</th>\n",
       "      <td>INFJ</td>\n",
       "      <td>'http://www.youtube.com/watch?v=qsXHcwe3krw|||http://41.media.tumblr.com/tumblr_lfouy03PMA1qa1rooo1_500.jpg|||enfp and intj moments  https://www.youtube.com/watc...</td>\n",
       "    </tr>\n",
       "    <tr>\n",
       "      <th>1</th>\n",
       "      <td>ENTP</td>\n",
       "      <td>'I'm finding the lack of me in these posts very alarming.|||Sex can be boring if it's in the same position often. For example me and my girlfriend are currently ...</td>\n",
       "    </tr>\n",
       "    <tr>\n",
       "      <th>2</th>\n",
       "      <td>INTP</td>\n",
       "      <td>'Good one  _____   https://www.youtube.com/watch?v=fHiGbolFFGw|||Of course, to which I say I know; that's my blessing and my curse.|||Does being absolutely posit...</td>\n",
       "    </tr>\n",
       "    <tr>\n",
       "      <th>3</th>\n",
       "      <td>INTJ</td>\n",
       "      <td>'Dear INTP,   I enjoyed our conversation the other day.  Esoteric gabbing about the nature of the universe and the idea that every rule and social code being arb...</td>\n",
       "    </tr>\n",
       "    <tr>\n",
       "      <th>4</th>\n",
       "      <td>ENTJ</td>\n",
       "      <td>'You're fired.|||That's another silly misconception. That approaching is logically is going to be the key to unlocking whatever it is you think you are entitled ...</td>\n",
       "    </tr>\n",
       "  </tbody>\n",
       "</table>\n",
       "</div>"
      ],
      "text/plain": [
       "   type  \\\n",
       "0  INFJ   \n",
       "1  ENTP   \n",
       "2  INTP   \n",
       "3  INTJ   \n",
       "4  ENTJ   \n",
       "\n",
       "                                                                                                                                                                  posts  \n",
       "0  'http://www.youtube.com/watch?v=qsXHcwe3krw|||http://41.media.tumblr.com/tumblr_lfouy03PMA1qa1rooo1_500.jpg|||enfp and intj moments  https://www.youtube.com/watc...  \n",
       "1  'I'm finding the lack of me in these posts very alarming.|||Sex can be boring if it's in the same position often. For example me and my girlfriend are currently ...  \n",
       "2  'Good one  _____   https://www.youtube.com/watch?v=fHiGbolFFGw|||Of course, to which I say I know; that's my blessing and my curse.|||Does being absolutely posit...  \n",
       "3  'Dear INTP,   I enjoyed our conversation the other day.  Esoteric gabbing about the nature of the universe and the idea that every rule and social code being arb...  \n",
       "4  'You're fired.|||That's another silly misconception. That approaching is logically is going to be the key to unlocking whatever it is you think you are entitled ...  "
      ]
     },
     "execution_count": 3,
     "metadata": {},
     "output_type": "execute_result"
    }
   ],
   "source": [
    "df.head(5)"
   ]
  },
  {
   "cell_type": "code",
   "execution_count": 4,
   "metadata": {},
   "outputs": [
    {
     "name": "stdout",
     "output_type": "stream",
     "text": [
      "<class 'pandas.core.frame.DataFrame'>\n",
      "RangeIndex: 8675 entries, 0 to 8674\n",
      "Data columns (total 2 columns):\n",
      " #   Column  Non-Null Count  Dtype \n",
      "---  ------  --------------  ----- \n",
      " 0   type    8675 non-null   object\n",
      " 1   posts   8675 non-null   object\n",
      "dtypes: object(2)\n",
      "memory usage: 135.7+ KB\n"
     ]
    }
   ],
   "source": [
    "df.info()"
   ]
  },
  {
   "cell_type": "markdown",
   "metadata": {},
   "source": [
    "#### Group data to determine distribution of personality types"
   ]
  },
  {
   "cell_type": "code",
   "execution_count": 5,
   "metadata": {},
   "outputs": [
    {
     "name": "stdout",
     "output_type": "stream",
     "text": [
      "Personality Types ['INFP' 'INFJ' 'INTP' 'INTJ' 'ENTP' 'ENFP' 'ISTP' 'ISFP' 'ENTJ' 'ISTJ'\n",
      " 'ENFJ' 'ISFJ' 'ESTP' 'ESFP' 'ESFJ' 'ESTJ']\n"
     ]
    }
   ],
   "source": [
    "group_data = df.groupby('type').count()\n",
    "group_data.sort_values('posts', ascending=False, inplace=True)\n",
    "print('Personality Types', group_data.index.values)"
   ]
  },
  {
   "cell_type": "code",
   "execution_count": 6,
   "metadata": {},
   "outputs": [
    {
     "data": {
      "image/png": "[encoded data removed]",
      "text/plain": [
       "<Figure size 432x288 with 1 Axes>"
      ]
     },
     "metadata": {
      "needs_background": "light"
     },
     "output_type": "display_data"
    }
   ],
   "source": [
    "# Distribution of personality types\n",
    "group_data[\"posts\"].plot(kind=\"bar\", title=\"Number of Users per Personality type\");"
   ]
  },
  {
   "cell_type": "code",
   "execution_count": 7,
   "metadata": {},
   "outputs": [
    {
     "data": {
      "image/png": "[encoded data removed]",
      "text/plain": [
       "<Figure size 432x288 with 1 Axes>"
      ]
     },
     "metadata": {
      "needs_background": "light"
     },
     "output_type": "display_data"
    }
   ],
   "source": [
    "# Distribution of post character length\n",
    "df['Length_Preprocessed'] = df['posts'].apply(len)\n",
    "df['Length_Preprocessed'].plot.density().set_title('Distribution of Post Lengths');"
   ]
  },
  {
   "cell_type": "code",
   "execution_count": 8,
   "metadata": {},
   "outputs": [
    {
     "data": {
      "image/png": "[encoded data removed]",
      "text/plain": [
       "<Figure size 432x288 with 1 Axes>"
      ]
     },
     "metadata": {
      "needs_background": "light"
     },
     "output_type": "display_data"
    }
   ],
   "source": [
    "# Distribution of # of posts per user\n",
    "df[\"NumPosts\"] = df[\"posts\"].apply(lambda x: len(x.split(\"|||\")))\n",
    "df['NumPosts'].plot.density().set_title('Number of Posts per User');"
   ]
  },
  {
   "cell_type": "markdown",
   "metadata": {},
   "source": [
    "# Clean and preprocess data"
   ]
  },
  {
   "cell_type": "markdown",
   "metadata": {},
   "source": [
    "#### define functions"
   ]
  },
  {
   "cell_type": "code",
   "execution_count": 9,
   "metadata": {},
   "outputs": [
    {
     "name": "stdout",
     "output_type": "stream",
     "text": [
      "Number of users 8675\n",
      "Number of posts 422845\n"
     ]
    }
   ],
   "source": [
    "# Split grouped posts into indiv. rows\n",
    "def extract(posts, new_posts):\n",
    "    for post in posts[1].split(\"|||\"):\n",
    "        new_posts.append((posts[0], post))\n",
    "\n",
    "posts = []\n",
    "df.apply(lambda x: extract(x, posts), axis=1)\n",
    "print(\"Number of users\", len(df))\n",
    "print(\"Number of posts\", len(posts))\n",
    "\n",
    "df = pd.DataFrame(posts, columns=[\"type\", \"posts\"])"
   ]
  },
  {
   "cell_type": "code",
   "execution_count": 10,
   "metadata": {},
   "outputs": [
    {
     "data": {
      "text/html": [
       "<div>\n",
       "<style scoped>\n",
       "    .dataframe tbody tr th:only-of-type {\n",
       "        vertical-align: middle;\n",
       "    }\n",
       "\n",
       "    .dataframe tbody tr th {\n",
       "        vertical-align: top;\n",
       "    }\n",
       "\n",
       "    .dataframe thead th {\n",
       "        text-align: right;\n",
       "    }\n",
       "</style>\n",
       "<table border=\"1\" class=\"dataframe\">\n",
       "  <thead>\n",
       "    <tr style=\"text-align: right;\">\n",
       "      <th></th>\n",
       "      <th>type</th>\n",
       "      <th>posts</th>\n",
       "    </tr>\n",
       "  </thead>\n",
       "  <tbody>\n",
       "    <tr>\n",
       "      <th>0</th>\n",
       "      <td>INFJ</td>\n",
       "      <td>'http://www.youtube.com/watch?v=qsXHcwe3krw</td>\n",
       "    </tr>\n",
       "    <tr>\n",
       "      <th>1</th>\n",
       "      <td>INFJ</td>\n",
       "      <td>http://41.media.tumblr.com/tumblr_lfouy03PMA1qa1rooo1_500.jpg</td>\n",
       "    </tr>\n",
       "    <tr>\n",
       "      <th>2</th>\n",
       "      <td>INFJ</td>\n",
       "      <td>enfp and intj moments  https://www.youtube.com/watch?v=iz7lE1g4XM4  sportscenter not top ten plays  https://www.youtube.com/watch?v=uCdfze1etec  pranks</td>\n",
       "    </tr>\n",
       "    <tr>\n",
       "      <th>3</th>\n",
       "      <td>INFJ</td>\n",
       "      <td>What has been the most life-changing experience in your life?</td>\n",
       "    </tr>\n",
       "    <tr>\n",
       "      <th>4</th>\n",
       "      <td>INFJ</td>\n",
       "      <td>http://www.youtube.com/watch?v=vXZeYwwRDw8   http://www.youtube.com/watch?v=u8ejam5DP3E  On repeat for most of today.</td>\n",
       "    </tr>\n",
       "    <tr>\n",
       "      <th>...</th>\n",
       "      <td>...</td>\n",
       "      <td>...</td>\n",
       "    </tr>\n",
       "    <tr>\n",
       "      <th>422840</th>\n",
       "      <td>INFP</td>\n",
       "      <td>I was going to close my facebook a few months back, but as well as wanting to be able to message my family in ausse and school friends i found that i had connect...</td>\n",
       "    </tr>\n",
       "    <tr>\n",
       "      <th>422841</th>\n",
       "      <td>INFP</td>\n",
       "      <td>30 Seconds to Mars - All of my collections. It seems to be fitting my mood right now.</td>\n",
       "    </tr>\n",
       "    <tr>\n",
       "      <th>422842</th>\n",
       "      <td>INFP</td>\n",
       "      <td>I have seen it, and i agree. I did actually think that the first time I watched the movie, and from the beginning (or when they got their powers) I kinda thought...</td>\n",
       "    </tr>\n",
       "    <tr>\n",
       "      <th>422843</th>\n",
       "      <td>INFP</td>\n",
       "      <td>Ok so i have just watched Underworld 4 (Awakening) and must say it was a really good film, Compared to the other films out in the last few months anyway. I don't...</td>\n",
       "    </tr>\n",
       "    <tr>\n",
       "      <th>422844</th>\n",
       "      <td>INFP</td>\n",
       "      <td>I would never want to turn off my emotions. sometimes I hide them from the world, but I still need them for me.'</td>\n",
       "    </tr>\n",
       "  </tbody>\n",
       "</table>\n",
       "<p>422845 rows × 2 columns</p>\n",
       "</div>"
      ],
      "text/plain": [
       "        type  \\\n",
       "0       INFJ   \n",
       "1       INFJ   \n",
       "2       INFJ   \n",
       "3       INFJ   \n",
       "4       INFJ   \n",
       "...      ...   \n",
       "422840  INFP   \n",
       "422841  INFP   \n",
       "422842  INFP   \n",
       "422843  INFP   \n",
       "422844  INFP   \n",
       "\n",
       "                                                                                                                                                                       posts  \n",
       "0                                                                                                                                'http://www.youtube.com/watch?v=qsXHcwe3krw  \n",
       "1                                                                                                              http://41.media.tumblr.com/tumblr_lfouy03PMA1qa1rooo1_500.jpg  \n",
       "2                    enfp and intj moments  https://www.youtube.com/watch?v=iz7lE1g4XM4  sportscenter not top ten plays  https://www.youtube.com/watch?v=uCdfze1etec  pranks  \n",
       "3                                                                                                              What has been the most life-changing experience in your life?  \n",
       "4                                                      http://www.youtube.com/watch?v=vXZeYwwRDw8   http://www.youtube.com/watch?v=u8ejam5DP3E  On repeat for most of today.  \n",
       "...                                                                                                                                                                      ...  \n",
       "422840  I was going to close my facebook a few months back, but as well as wanting to be able to message my family in ausse and school friends i found that i had connect...  \n",
       "422841                                                                                 30 Seconds to Mars - All of my collections. It seems to be fitting my mood right now.  \n",
       "422842  I have seen it, and i agree. I did actually think that the first time I watched the movie, and from the beginning (or when they got their powers) I kinda thought...  \n",
       "422843  Ok so i have just watched Underworld 4 (Awakening) and must say it was a really good film, Compared to the other films out in the last few months anyway. I don't...  \n",
       "422844                                                      I would never want to turn off my emotions. sometimes I hide them from the world, but I still need them for me.'  \n",
       "\n",
       "[422845 rows x 2 columns]"
      ]
     },
     "execution_count": 10,
     "metadata": {},
     "output_type": "execute_result"
    }
   ],
   "source": [
    "df"
   ]
  },
  {
   "cell_type": "code",
   "execution_count": 11,
   "metadata": {},
   "outputs": [],
   "source": [
    "def preprocess_text(df, mbpt_token=True):\n",
    "    # Remove url links \n",
    "    df[\"posts\"] = df[\"posts\"].apply(lambda x: re.sub(r'https?:\\/\\/.*?[\\s+]', '', x.replace(\"|\",\" \") + \" \"))\n",
    "       \n",
    "    # Strip misc punctuation\n",
    "    df[\"posts\"] = df[\"posts\"].apply(lambda x: re.sub(r'[^\\w\\s]','',x))\n",
    "\n",
    "    # Remove Non-words\n",
    "    df[\"posts\"] = df[\"posts\"].apply(lambda x: re.sub(r'[^a-zA-Z\\s]','',x))\n",
    "\n",
    "    # Remove multiple letter repeating words\n",
    "    df[\"posts\"] = df[\"posts\"].apply(lambda x: re.sub(r'([a-z])\\1{2,}[\\s|\\w]*','',x)) \n",
    "\n",
    "    # Remove short/long words\n",
    "    df[\"posts\"] = df[\"posts\"].apply(lambda x: re.sub(r'(\\b\\w{0,2})?\\b','',x)) \n",
    "    df[\"posts\"] = df[\"posts\"].apply(lambda x: re.sub(r'(\\b\\w{30,1000})?\\b','',x))\n",
    "\n",
    "    # Remove Personality Type identifiers/tokens from posts \n",
    "    # MBPT identifier is subsituted with 'PtypeToken' to avoid bias when training model\n",
    "    if mbpt_token:\n",
    "        pers_types = ['INFP' ,'INFJ', 'INTP', 'INTJ', 'ENTP', 'ENFP', 'ISTP' ,'ISFP' ,'ENTJ', 'ISTJ','ENFJ', 'ISFJ' ,'ESTP', 'ESFP' ,'ESFJ' ,'ESTJ']\n",
    "        pers_types = [p.lower() for p in pers_types]\n",
    "        p = re.compile(\"(\" + \"|\".join(pers_types) + \")\")\n",
    "\n",
    "    df[\"posts\"] = df[\"posts\"].apply(lambda x: p.sub(' PtypeToken ',x))\n",
    "    return df"
   ]
  },
  {
   "cell_type": "code",
   "execution_count": 12,
   "metadata": {},
   "outputs": [],
   "source": [
    "# Preprocess Text\n",
    "clean_data = preprocess_text(df) "
   ]
  },
  {
   "cell_type": "code",
   "execution_count": 13,
   "metadata": {},
   "outputs": [
    {
     "data": {
      "text/html": [
       "<div>\n",
       "<style scoped>\n",
       "    .dataframe tbody tr th:only-of-type {\n",
       "        vertical-align: middle;\n",
       "    }\n",
       "\n",
       "    .dataframe tbody tr th {\n",
       "        vertical-align: top;\n",
       "    }\n",
       "\n",
       "    .dataframe thead th {\n",
       "        text-align: right;\n",
       "    }\n",
       "</style>\n",
       "<table border=\"1\" class=\"dataframe\">\n",
       "  <thead>\n",
       "    <tr style=\"text-align: right;\">\n",
       "      <th></th>\n",
       "      <th>type</th>\n",
       "      <th>posts</th>\n",
       "    </tr>\n",
       "  </thead>\n",
       "  <tbody>\n",
       "    <tr>\n",
       "      <th>0</th>\n",
       "      <td>INFJ</td>\n",
       "      <td></td>\n",
       "    </tr>\n",
       "    <tr>\n",
       "      <th>1</th>\n",
       "      <td>INFJ</td>\n",
       "      <td></td>\n",
       "    </tr>\n",
       "    <tr>\n",
       "      <th>2</th>\n",
       "      <td>INFJ</td>\n",
       "      <td>PtypeToken  and  PtypeToken  moments   sportscenter not top ten plays   pranks</td>\n",
       "    </tr>\n",
       "    <tr>\n",
       "      <th>3</th>\n",
       "      <td>INFJ</td>\n",
       "      <td>What has been the most lifechanging experience  your life</td>\n",
       "    </tr>\n",
       "    <tr>\n",
       "      <th>4</th>\n",
       "      <td>INFJ</td>\n",
       "      <td>repeat for most  today</td>\n",
       "    </tr>\n",
       "    <tr>\n",
       "      <th>...</th>\n",
       "      <td>...</td>\n",
       "      <td>...</td>\n",
       "    </tr>\n",
       "    <tr>\n",
       "      <th>422840</th>\n",
       "      <td>INFP</td>\n",
       "      <td>was going  close  facebook  few months back but  well  wanting   able  message  family  ausse and school friends  found that  had connected  few other websites</td>\n",
       "    </tr>\n",
       "    <tr>\n",
       "      <th>422841</th>\n",
       "      <td>INFP</td>\n",
       "      <td>Seconds  Mars  All   collections  seems   fitting  mood right now</td>\n",
       "    </tr>\n",
       "    <tr>\n",
       "      <th>422842</th>\n",
       "      <td>INFP</td>\n",
       "      <td>have seen  and  agree  did actually think that the first time  watched the movie and from the beginning  when they got their powers  kinda thought Andrew would ...</td>\n",
       "    </tr>\n",
       "    <tr>\n",
       "      <th>422843</th>\n",
       "      <td>INFP</td>\n",
       "      <td>have just watched Underworld  Awakening and must say  was  really good film Compared  the other films out  the last few months anyway  dont think  was  good  ...</td>\n",
       "    </tr>\n",
       "    <tr>\n",
       "      <th>422844</th>\n",
       "      <td>INFP</td>\n",
       "      <td>would never want  turn off  emotions sometimes  hide them from the world but  still need them for</td>\n",
       "    </tr>\n",
       "  </tbody>\n",
       "</table>\n",
       "<p>422845 rows × 2 columns</p>\n",
       "</div>"
      ],
      "text/plain": [
       "        type  \\\n",
       "0       INFJ   \n",
       "1       INFJ   \n",
       "2       INFJ   \n",
       "3       INFJ   \n",
       "4       INFJ   \n",
       "...      ...   \n",
       "422840  INFP   \n",
       "422841  INFP   \n",
       "422842  INFP   \n",
       "422843  INFP   \n",
       "422844  INFP   \n",
       "\n",
       "                                                                                                                                                                       posts  \n",
       "0                                                                                                                                                                             \n",
       "1                                                                                                                                                                             \n",
       "2                                                                                            PtypeToken  and  PtypeToken  moments   sportscenter not top ten plays   pranks   \n",
       "3                                                                                                                 What has been the most lifechanging experience  your life   \n",
       "4                                                                                                                                                    repeat for most  today   \n",
       "...                                                                                                                                                                      ...  \n",
       "422840    was going  close  facebook  few months back but  well  wanting   able  message  family  ausse and school friends  found that  had connected  few other websites     \n",
       "422841                                                                                                    Seconds  Mars  All   collections  seems   fitting  mood right now   \n",
       "422842   have seen  and  agree  did actually think that the first time  watched the movie and from the beginning  when they got their powers  kinda thought Andrew would ...  \n",
       "422843     have just watched Underworld  Awakening and must say  was  really good film Compared  the other films out  the last few months anyway  dont think  was  good  ...  \n",
       "422844                                                                   would never want  turn off  emotions sometimes  hide them from the world but  still need them for    \n",
       "\n",
       "[422845 rows x 2 columns]"
      ]
     },
     "execution_count": 13,
     "metadata": {},
     "output_type": "execute_result"
    }
   ],
   "source": [
    "clean_data"
   ]
  },
  {
   "cell_type": "code",
   "execution_count": 14,
   "metadata": {},
   "outputs": [
    {
     "data": {
      "image/png": "[encoded data removed]",
      "text/plain": [
       "<Figure size 432x288 with 1 Axes>"
      ]
     },
     "metadata": {
      "needs_background": "light"
     },
     "output_type": "display_data"
    }
   ],
   "source": [
    "# Distribution of Character length after cleaning\n",
    "clean_data[\"Len\"] = clean_data[\"posts\"].apply(len)\n",
    "clean_data[\"Len\"].plot.density().set_title('Distribution of Character length after cleaning');"
   ]
  },
  {
   "cell_type": "code",
   "execution_count": 15,
   "metadata": {},
   "outputs": [
    {
     "name": "stdout",
     "output_type": "stream",
     "text": [
      "Number of posts 422845\n",
      "Number of posts 283792\n"
     ]
    }
   ],
   "source": [
    "# Remove posts with less than X words\n",
    "min_words = 15\n",
    "print(\"Number of posts\", len(clean_data)) \n",
    "clean_data[\"nw\"] = clean_data[\"posts\"].apply(lambda x: len(re.findall(r'\\w+', x)))\n",
    "clean_data = clean_data[clean_data[\"nw\"] >= min_words]\n",
    "print(\"Number of posts\", len(clean_data)) "
   ]
  },
  {
   "cell_type": "code",
   "execution_count": 16,
   "metadata": {},
   "outputs": [
    {
     "name": "stdout",
     "output_type": "stream",
     "text": [
      "Number of posts 283792\n",
      "Number of posts 283792\n"
     ]
    }
   ],
   "source": [
    "# Remove long post\n",
    "max_length = 350\n",
    "print(\"Number of posts\", len(clean_data)) \n",
    "clean_data = clean_data[clean_data[\"Len\"] < 350]\n",
    "print(\"Number of posts\", len(clean_data)) "
   ]
  },
  {
   "cell_type": "code",
   "execution_count": 17,
   "metadata": {},
   "outputs": [
    {
     "data": {
      "image/png": "[encoded data removed]",
      "text/plain": [
       "<Figure size 432x288 with 1 Axes>"
      ]
     },
     "metadata": {
      "needs_background": "light"
     },
     "output_type": "display_data"
    }
   ],
   "source": [
    "clean_data[\"Len\"] = clean_data[\"posts\"].apply(len)\n",
    "clean_data[\"Len\"].plot.density().set_title('Distribution of Character length after cleaning 2');"
   ]
  },
  {
   "cell_type": "markdown",
   "metadata": {},
   "source": [
    "### Cleaned DataFrame"
   ]
  },
  {
   "cell_type": "code",
   "execution_count": 18,
   "metadata": {},
   "outputs": [
    {
     "data": {
      "text/html": [
       "<div>\n",
       "<style scoped>\n",
       "    .dataframe tbody tr th:only-of-type {\n",
       "        vertical-align: middle;\n",
       "    }\n",
       "\n",
       "    .dataframe tbody tr th {\n",
       "        vertical-align: top;\n",
       "    }\n",
       "\n",
       "    .dataframe thead th {\n",
       "        text-align: right;\n",
       "    }\n",
       "</style>\n",
       "<table border=\"1\" class=\"dataframe\">\n",
       "  <thead>\n",
       "    <tr style=\"text-align: right;\">\n",
       "      <th></th>\n",
       "      <th>type</th>\n",
       "      <th>posts</th>\n",
       "    </tr>\n",
       "  </thead>\n",
       "  <tbody>\n",
       "    <tr>\n",
       "      <th>6</th>\n",
       "      <td>INFJ</td>\n",
       "      <td>The last thing  INFJ friend posted  his facebook before committing suicide the next day Rest  peace</td>\n",
       "    </tr>\n",
       "    <tr>\n",
       "      <th>7</th>\n",
       "      <td>INFJ</td>\n",
       "      <td>Hello ENFJ Sorry  hear  your distress Its only natural for  relationship  not  perfection all the time  every moment  existence Try  figure the hard times  times...</td>\n",
       "    </tr>\n",
       "    <tr>\n",
       "      <th>11</th>\n",
       "      <td>INFJ</td>\n",
       "      <td>Prozac wellbrutin  least thirty minutes  moving your legs and  dont mean moving them while sitting  your same desk chair weed  moderation maybe try edibles   hea...</td>\n",
       "    </tr>\n",
       "    <tr>\n",
       "      <th>12</th>\n",
       "      <td>INFJ</td>\n",
       "      <td>Basically come  with three items youve determined that each type  whichever types you want   would more than likely use given each types cognitive functions and ...</td>\n",
       "    </tr>\n",
       "    <tr>\n",
       "      <th>13</th>\n",
       "      <td>INFJ</td>\n",
       "      <td>All things  moderation  Sims  indeed  video game and  good one  that Note  good one  that  somewhat subjective  that   not completely promoting the death  any gi...</td>\n",
       "    </tr>\n",
       "    <tr>\n",
       "      <th>...</th>\n",
       "      <td>...</td>\n",
       "      <td>...</td>\n",
       "    </tr>\n",
       "    <tr>\n",
       "      <th>422839</th>\n",
       "      <td>INFP</td>\n",
       "      <td>Tonight  sit outside  window  the blackness  night staring out into the wilderness  call space Peace Beauty  could stay here till the morning light The thousands...</td>\n",
       "    </tr>\n",
       "    <tr>\n",
       "      <th>422840</th>\n",
       "      <td>INFP</td>\n",
       "      <td>was going  close  facebook  few months back but  well  wanting   able  message  family  ausse and school friends  found that  had connected  few other websites</td>\n",
       "    </tr>\n",
       "    <tr>\n",
       "      <th>422842</th>\n",
       "      <td>INFP</td>\n",
       "      <td>have seen  and  agree  did actually think that the first time  watched the movie and from the beginning  when they got their powers  kinda thought Andrew would ...</td>\n",
       "    </tr>\n",
       "    <tr>\n",
       "      <th>422843</th>\n",
       "      <td>INFP</td>\n",
       "      <td>have just watched Underworld  Awakening and must say  was  really good film Compared  the other films out  the last few months anyway  dont think  was  good  ...</td>\n",
       "    </tr>\n",
       "    <tr>\n",
       "      <th>422844</th>\n",
       "      <td>INFP</td>\n",
       "      <td>would never want  turn off  emotions sometimes  hide them from the world but  still need them for</td>\n",
       "    </tr>\n",
       "  </tbody>\n",
       "</table>\n",
       "<p>283792 rows × 2 columns</p>\n",
       "</div>"
      ],
      "text/plain": [
       "        type  \\\n",
       "6       INFJ   \n",
       "7       INFJ   \n",
       "11      INFJ   \n",
       "12      INFJ   \n",
       "13      INFJ   \n",
       "...      ...   \n",
       "422839  INFP   \n",
       "422840  INFP   \n",
       "422842  INFP   \n",
       "422843  INFP   \n",
       "422844  INFP   \n",
       "\n",
       "                                                                                                                                                                       posts  \n",
       "6                                                                     The last thing  INFJ friend posted  his facebook before committing suicide the next day Rest  peace     \n",
       "7       Hello ENFJ Sorry  hear  your distress Its only natural for  relationship  not  perfection all the time  every moment  existence Try  figure the hard times  times...  \n",
       "11      Prozac wellbrutin  least thirty minutes  moving your legs and  dont mean moving them while sitting  your same desk chair weed  moderation maybe try edibles   hea...  \n",
       "12      Basically come  with three items youve determined that each type  whichever types you want   would more than likely use given each types cognitive functions and ...  \n",
       "13      All things  moderation  Sims  indeed  video game and  good one  that Note  good one  that  somewhat subjective  that   not completely promoting the death  any gi...  \n",
       "...                                                                                                                                                                      ...  \n",
       "422839  Tonight  sit outside  window  the blackness  night staring out into the wilderness  call space Peace Beauty  could stay here till the morning light The thousands...  \n",
       "422840    was going  close  facebook  few months back but  well  wanting   able  message  family  ausse and school friends  found that  had connected  few other websites     \n",
       "422842   have seen  and  agree  did actually think that the first time  watched the movie and from the beginning  when they got their powers  kinda thought Andrew would ...  \n",
       "422843     have just watched Underworld  Awakening and must say  was  really good film Compared  the other films out  the last few months anyway  dont think  was  good  ...  \n",
       "422844                                                                   would never want  turn off  emotions sometimes  hide them from the world but  still need them for    \n",
       "\n",
       "[283792 rows x 2 columns]"
      ]
     },
     "execution_count": 18,
     "metadata": {},
     "output_type": "execute_result"
    }
   ],
   "source": [
    "clean_df = pd.DataFrame(clean_data, columns=[\"type\", \"posts\"])\n",
    "clean_df"
   ]
  },
  {
   "cell_type": "code",
   "execution_count": 19,
   "metadata": {},
   "outputs": [],
   "source": [
    "# Export cleaned dataframe to file\n",
    "clean_df.to_csv('resources/mbti_clean.csv')"
   ]
  },
  {
   "cell_type": "code",
   "execution_count": null,
   "metadata": {},
   "outputs": [],
   "source": []
  }
 ],
 "metadata": {
  "kernelspec": {
   "display_name": "PythonData",
   "language": "python",
   "name": "pythondata"
  },
  "language_info": {
   "codemirror_mode": {
    "name": "ipython",
    "version": 3
   },
   "file_extension": ".py",
   "mimetype": "text/x-python",
   "name": "python",
   "nbconvert_exporter": "python",
   "pygments_lexer": "ipython3",
   "version": "3.7.7"
  }
 },
 "nbformat": 4,
 "nbformat_minor": 4
}
